{
  "nbformat": 4,
  "nbformat_minor": 0,
  "metadata": {
    "colab": {
      "provenance": []
    },
    "kernelspec": {
      "name": "python3",
      "display_name": "Python 3"
    },
    "language_info": {
      "name": "python"
    }
  },
  "cells": [
    {
      "cell_type": "markdown",
      "source": [
        "Answer 1"
      ],
      "metadata": {
        "id": "uLpXww5TRyS6"
      }
    },
    {
      "cell_type": "code",
      "execution_count": null,
      "metadata": {
        "id": "VP9kNUqdZWNm"
      },
      "outputs": [],
      "source": [
        "class Book:\n",
        " def __init__(self, title, author, copies):\n",
        "  self.title = title\n",
        "  self.author = author\n",
        "  self.copies = copies\n",
        "\n",
        " def lend_book(self):\n",
        "  self.copies -= 1\n",
        "\n",
        " def return_book(self):\n",
        "  self.copies += 1\n",
        "\n",
        "class Member:\n",
        "  def __init__(self, name):\n",
        "   self.name = name\n",
        "   self.borrowed_books = []\n",
        "\n",
        "  def borrow_book(self, book):\n",
        "    self.borrowed_books.append(book)\n",
        "    book.lend_book()\n",
        "\n",
        "  def return_book(self, book):\n",
        "   self.borrowed_books.remove(book)\n",
        "   book.return_book()\n",
        "\n",
        "  def display_catalog(books):\n",
        "   for book in books:\n",
        "    print(book.title, book.author, book.copies)\n",
        "\n",
        "  def display_members(members):\n",
        "   for Member in members:\n",
        "    print(Member.name, Member.borrowed_books)"
      ]
    },
    {
      "cell_type": "code",
      "source": [
        "book_vic = Book(\"BOOK2\",\"victor\",12)\n",
        "book_Jack = Book(\"softwer\",\"jacob\",1)\n",
        "\n",
        "Book.return_book(book_vic)\n",
        "\n",
        "book_vic.lend_book()\n",
        "\n",
        "print(book_vic.author)\n",
        "print(book_Jack.title)\n",
        "\n",
        "print(book_vic.copies)\n",
        "\n"
      ],
      "metadata": {
        "colab": {
          "base_uri": "https://localhost:8080/"
        },
        "id": "D3hw1Cydag4E",
        "outputId": "260d137f-3006-4caf-e6cc-ada10ad23f08"
      },
      "execution_count": null,
      "outputs": [
        {
          "output_type": "stream",
          "name": "stdout",
          "text": [
            "victor\n",
            "softwer\n",
            "12\n"
          ]
        }
      ]
    },
    {
      "cell_type": "code",
      "source": [
        "victor = Member(\"victor\" )\n",
        "jacob = Member(\"jacob\" )\n",
        "mazal = Member(\"mazal\" )\n",
        "\n",
        "victor.borrow_book(book_vic)\n",
        "victor.borrow_book(book_Jack)\n",
        "\n",
        "victor.return_book(book_vic)\n",
        "\n",
        "print([book.title for book in victor.borrowed_books])\n",
        "\n",
        "Member.display_catalog(books = [book_vic,book_Jack])\n",
        "\n",
        "Member.display_members(members = [victor,jacob,mazal])"
      ],
      "metadata": {
        "colab": {
          "base_uri": "https://localhost:8080/"
        },
        "id": "IUtpZ6wpj9s-",
        "outputId": "e0e6a23a-f49a-4e7b-9391-1398176ee2ac"
      },
      "execution_count": null,
      "outputs": [
        {
          "output_type": "stream",
          "name": "stdout",
          "text": [
            "['softwer']\n",
            "BOOK2 victor 12\n",
            "softwer jacob -1\n",
            "victor [<__main__.Book object at 0x7ef42f30c910>]\n",
            "jacob []\n",
            "mazal []\n"
          ]
        }
      ]
    },
    {
      "cell_type": "markdown",
      "source": [
        "**Answer 2 **"
      ],
      "metadata": {
        "id": "3-vKwWEDRsKW"
      }
    },
    {
      "cell_type": "code",
      "source": [
        "class Animal:\n",
        "    def __init__(self, name, kind, sex, age):\n",
        "        self.name = name\n",
        "        self.kind = kind\n",
        "        self.sex = sex\n",
        "        self.age = age\n",
        "        self.is_adopted = False\n",
        "\n",
        "    def adopt(self):\n",
        "        self.is_adopted = True\n",
        "        print(f\"{self.name} has been adopted.\")\n",
        "\n",
        "    def return_to_shelter(self):\n",
        "        self.is_adopted = False\n",
        "        print(f\"{self.name} has been returned to the shelter.\")\n",
        "\n",
        "\n",
        "class Adopter:\n",
        "    def __init__(self, name):\n",
        "        self.name = name\n",
        "        self.adopts_list = []\n",
        "\n",
        "    def adopt_animal(self, animal):\n",
        "        if animal.is_adopted:\n",
        "            print(f\"You can't adopt {animal.name}, it is already adopted.\")\n",
        "        else:\n",
        "            animal.adopt()\n",
        "            self.adopts_list.append(animal)\n",
        "            print(f\"{animal.name} has been successfully adopted by {self.name}.\")\n",
        "\n",
        "    def return_animal(self, animal):\n",
        "        if animal in self.adopts_list:\n",
        "            animal.return_to_shelter()\n",
        "            self.adopts_list.remove(animal)\n",
        "            print(f\"{animal.name} has been returned by {self.name}.\")\n",
        "        else:\n",
        "            print(f\"You can't return {animal.name}, it was not adopted by {self.name}.\")\n",
        "\n",
        "    def show_adopted_animals(self):\n",
        "        if self.adopts_list:\n",
        "            print(f\"{self.name} has adopted the following animals:\")\n",
        "            for animal in self.adopts_list:\n",
        "                print(f\" - {animal.name} ({animal.kind}, {animal.sex}, {animal.age} years old)\")\n",
        "        else:\n",
        "            print(f\"{self.name} has not adopted any animals.\")\n",
        "\n",
        "\n",
        "def show_available_animals(animals):\n",
        "    available_animals = [animal for animal in animals if not animal.is_adopted]\n",
        "    if available_animals:\n",
        "        print(\"Animals available for adoption:\")\n",
        "        for animal in available_animals:\n",
        "            print(f\" - {animal.name} ({animal.kind}, {animal.sex}, {animal.age} years old)\")\n",
        "    else:\n",
        "        print(\"No animals are currently available for adoption.\")\n",
        "\n",
        "\n",
        "# Example usage:\n",
        "dog = Animal(\"Buddy\", \"Dog\", \"Male\", 3)\n",
        "cat = Animal(\"Whiskers\", \"Cat\", \"Female\", 2)\n",
        "rabbit = Animal(\"Flopsy\", \"Rabbit\", \"Female\", 1)\n",
        "\n",
        "adopter = Adopter(\"Emily\")\n",
        "\n",
        "show_available_animals([dog, cat, rabbit])\n",
        "adopter.adopt_animal(dog)\n",
        "adopter.show_adopted_animals()\n",
        "show_available_animals([dog, cat, rabbit])\n",
        "adopter.return_animal(dog)\n",
        "adopter.show_adopted_animals()\n",
        "show_available_animals([dog, cat, rabbit])"
      ],
      "metadata": {
        "colab": {
          "base_uri": "https://localhost:8080/"
        },
        "id": "vl6lchk6H2Lh",
        "outputId": "ca47afba-a291-4d0b-8d2b-00d619521a42"
      },
      "execution_count": null,
      "outputs": [
        {
          "output_type": "stream",
          "name": "stdout",
          "text": [
            "Animals available for adoption:\n",
            " - Buddy (Dog, Male, 3 years old)\n",
            " - Whiskers (Cat, Female, 2 years old)\n",
            " - Flopsy (Rabbit, Female, 1 years old)\n",
            "Buddy has been adopted.\n",
            "Buddy has been successfully adopted by Emily.\n",
            "Emily has adopted the following animals:\n",
            " - Buddy (Dog, Male, 3 years old)\n",
            "Animals available for adoption:\n",
            " - Whiskers (Cat, Female, 2 years old)\n",
            " - Flopsy (Rabbit, Female, 1 years old)\n",
            "Buddy has been returned to the shelter.\n",
            "Buddy has been returned by Emily.\n",
            "Emily has not adopted any animals.\n",
            "Animals available for adoption:\n",
            " - Buddy (Dog, Male, 3 years old)\n",
            " - Whiskers (Cat, Female, 2 years old)\n",
            " - Flopsy (Rabbit, Female, 1 years old)\n"
          ]
        }
      ]
    },
    {
      "cell_type": "markdown",
      "source": [
        " **Aswer 3**:\n"
      ],
      "metadata": {
        "id": "2qwife9YID9y"
      }
    },
    {
      "cell_type": "code",
      "source": [
        "class Product:\n",
        "  def __init__(self, name, price, amount):\n",
        "    self.name = name\n",
        "    self.price = price\n",
        "    self.amount = amount\n",
        "\n",
        "  def update_stock(self, change):\n",
        "        self.amount += change\n",
        "        if self.amount < 0:\n",
        "            self.amount = 0\n",
        "\n",
        "\n",
        "class Order:\n",
        "  def __init__(self):\n",
        "    self.items = []\n",
        "\n",
        "  def add_product(self, product, quantity ):\n",
        "   if product.amount >= quantity:\n",
        "      self.items.append((product, quantity))\n",
        "      product.update_stock(-quantity)\n",
        "   else:\n",
        "      print(f\"Insufficient stock for {product.name}\")\n",
        "\n",
        "  def total_price(self):\n",
        "   total = 0\n",
        "   for product, quantity in self.items:\n",
        "     total += product.price * quantity\n",
        "     return total\n",
        "\n",
        "def display_products(products):\n",
        "    for product in products:\n",
        "        print(f\"Product: {product.name}, Price: {product.price}, Stock: {product.amount}\")\n",
        "\n",
        "def display_orders(orders):\n",
        "    for order in orders:\n",
        "        print(\"Order details:\")\n",
        "        for product, quantity in order.items:\n",
        "            print(f\"{product.name}: {quantity} units, Total: {product.price * quantity}\")\n",
        "        print(f\"Total order price: {order.total_price()}\\n\")\n",
        "\n",
        "# Example usage\n",
        "products = [\n",
        "    Product(\"Apple\", 1.2, 50),\n",
        "    Product(\"Banana\", 0.8, 100),\n",
        "    Product(\"Cherry\", 2.5, 75)\n",
        "]\n",
        "\n",
        "order1 = Order()\n",
        "order1.add_product(products[0], 5)\n",
        "order1.add_product(products[1], 10)\n",
        "\n",
        "order2 = Order()\n",
        "order2.add_product(products[2], 20)\n",
        "order2.add_product(products[1], 5)\n",
        "\n",
        "orders = [order1, order2]\n",
        "\n",
        "display_products(products)\n",
        "display_orders(orders)\n",
        "\n"
      ],
      "metadata": {
        "id": "g2drm8UwIDqy",
        "colab": {
          "base_uri": "https://localhost:8080/"
        },
        "outputId": "5d516f6c-9142-4df8-c574-ed79948da0d9"
      },
      "execution_count": null,
      "outputs": [
        {
          "output_type": "stream",
          "name": "stdout",
          "text": [
            "Product: Apple, Price: 1.2, Stock: 45\n",
            "Product: Banana, Price: 0.8, Stock: 85\n",
            "Product: Cherry, Price: 2.5, Stock: 55\n",
            "Order details:\n",
            "Apple: 5 units, Total: 6.0\n",
            "Banana: 10 units, Total: 8.0\n",
            "Total order price: 6.0\n",
            "\n",
            "Order details:\n",
            "Cherry: 20 units, Total: 50.0\n",
            "Banana: 5 units, Total: 4.0\n",
            "Total order price: 50.0\n",
            "\n"
          ]
        }
      ]
    }
  ]
}