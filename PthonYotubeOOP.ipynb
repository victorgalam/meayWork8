{
  "nbformat": 4,
  "nbformat_minor": 0,
  "metadata": {
    "colab": {
      "provenance": [],
      "authorship_tag": "ABX9TyN6yYac62U351bYXVO7W3Qc",
      "include_colab_link": true
    },
    "kernelspec": {
      "name": "python3",
      "display_name": "Python 3"
    },
    "language_info": {
      "name": "python"
    }
  },
  "cells": [
    {
      "cell_type": "markdown",
      "metadata": {
        "id": "view-in-github",
        "colab_type": "text"
      },
      "source": [
        "<a href=\"https://colab.research.google.com/github/victorgalam/meayWork8/blob/main/PthonYotubeOOP.ipynb\" target=\"_parent\"><img src=\"https://colab.research.google.com/assets/colab-badge.svg\" alt=\"Open In Colab\"/></a>"
      ]
    },
    {
      "cell_type": "code",
      "execution_count": null,
      "metadata": {
        "colab": {
          "base_uri": "https://localhost:8080/"
        },
        "id": "CKDXZWJICfPv",
        "outputId": "c602e4e7-7e9d-4222-d049-55a7f9ed9320"
      },
      "outputs": [
        {
          "output_type": "stream",
          "name": "stdout",
          "text": [
            "<__main__.Employee object at 0x7a861353e500>\n",
            "<__main__.Employee object at 0x7a861353f250>\n",
            "bla@gmail.com\n",
            "tizi@gmail.com\n"
          ]
        }
      ],
      "source": [
        "# when we want to do a clear class with nothing inside it\n",
        "class XEmployee:\n",
        "  pass\n",
        "\n",
        "emp_1 = XEmployee()\n",
        "emp_2 = XEmployee()\n",
        "\n",
        "print(emp_1)\n",
        "print(emp_2)\n",
        "\n",
        "emp_1.first = 'Corey'\n",
        "emp_1.last = 'schfer'\n",
        "emp_1.email = 'bla@gmail.com'\n",
        "emp_1.pay = 4000\n",
        "\n",
        "emp_2.first = 'tizi'\n",
        "emp_2.last = 'nabi'\n",
        "emp_2.email = 'tizi@gmail.com'\n",
        "emp_2.pay = 4300\n",
        "\n",
        "print(emp_1.email)\n",
        "print(emp_2.email)"
      ]
    },
    {
      "cell_type": "code",
      "source": [
        "# how to use classes\n",
        "class Employee:\n",
        "\n",
        "  raise_ampunt = 1.04\n",
        "\n",
        "  def __init__(self, first, last, pay):\n",
        "    self.first = first\n",
        "    self.last = last\n",
        "    self.pay = pay\n",
        "    self.email = first + '.' + last + '@company.com'\n",
        "\n",
        "\n",
        "  def apply_raise(self):\n",
        "    self.pay = int(self.pay * self.raise_ampunt)\n",
        "\n",
        "# how to make fullName that we can print insted the anther way\n",
        "  def fullname(self):\n",
        "    return '{} {}'.format(self.first, self.last)\n",
        "\n",
        "emp_1 = Employee('corney', 'schefer', 50000)\n",
        "emp_2 = Employee('Test', 'User', 50000)\n",
        "\n",
        "print(emp_2.email)\n",
        "\n",
        "# how to print the full name the long Way\n",
        "#print('{} {}'.format(emp_1.first, emp_1.last))\n",
        "print(emp_2.fullname())\n",
        "\n",
        "\n",
        "\n",
        "Employee.apply_raise()\n",
        "emp_2.raise_ampunt = 1.05\n",
        "\n",
        "print(emp_1.pay)\n",
        "print(emp_2.pay)\n",
        "\n"
      ],
      "metadata": {
        "colab": {
          "base_uri": "https://localhost:8080/"
        },
        "id": "WfWeb7YjL5FA",
        "outputId": "d890877f-ad80-42c1-929c-c93eb55bf662"
      },
      "execution_count": null,
      "outputs": [
        {
          "output_type": "stream",
          "name": "stdout",
          "text": [
            "Test.User@company.com\n",
            "Test User\n",
            "50000\n",
            "52000\n"
          ]
        }
      ]
    },
    {
      "cell_type": "code",
      "source": [],
      "metadata": {
        "colab": {
          "base_uri": "https://localhost:8080/",
          "height": 141
        },
        "id": "l1WbYc3gaIgv",
        "outputId": "1932c886-3af5-4594-9f4e-ca2b550c78f8"
      },
      "execution_count": null,
      "outputs": [
        {
          "output_type": "error",
          "ename": "NameError",
          "evalue": "name 'emp_1' is not defined",
          "traceback": [
            "\u001b[0;31m---------------------------------------------------------------------------\u001b[0m",
            "\u001b[0;31mNameError\u001b[0m                                 Traceback (most recent call last)",
            "\u001b[0;32m<ipython-input-1-a88f9228b5ec>\u001b[0m in \u001b[0;36m<cell line: 1>\u001b[0;34m()\u001b[0m\n\u001b[0;32m----> 1\u001b[0;31m \u001b[0mprint\u001b[0m\u001b[0;34m(\u001b[0m\u001b[0memp_1\u001b[0m\u001b[0;34m.\u001b[0m\u001b[0mpay\u001b[0m\u001b[0;34m)\u001b[0m\u001b[0;34m\u001b[0m\u001b[0;34m\u001b[0m\u001b[0m\n\u001b[0m",
            "\u001b[0;31mNameError\u001b[0m: name 'emp_1' is not defined"
          ]
        }
      ]
    }
  ]
}